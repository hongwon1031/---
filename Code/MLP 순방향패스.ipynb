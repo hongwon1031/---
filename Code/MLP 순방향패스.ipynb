{
 "cells": [
  {
   "cell_type": "markdown",
   "metadata": {},
   "source": [
    "# 단일 퍼셉트론 구현"
   ]
  },
  {
   "cell_type": "code",
   "execution_count": 1,
   "metadata": {},
   "outputs": [
    {
     "name": "stdout",
     "output_type": "stream",
     "text": [
      "[0 0 0 1]\n"
     ]
    }
   ],
   "source": [
    "from sklearn.linear_model import Perceptron\n",
    "\n",
    "X = [[0, 0], [0, 1], [1, 0], [1, 1]]\n",
    "y = [0, 0, 0, 1]\n",
    "\n",
    "clf = Perceptron(tol = 1e-3, random_state = 0) # tol = 종료 조건, random_state = 난수 시드\n",
    "clf.fit(X, y)\n",
    "print(clf.predict(X))"
   ]
  },
  {
   "cell_type": "markdown",
   "metadata": {},
   "source": [
    "# XOR 연산"
   ]
  },
  {
   "cell_type": "code",
   "execution_count": null,
   "metadata": {},
   "outputs": [],
   "source": [
    "import numpy as np\n",
    "\n",
    "def actf(x):    # 시그모이드 함수\n",
    "    return 1 / (1 + np.exp(-x))\n",
    "def actf_deriv(x): # 시그모이드 함수 미분치\n",
    "    return x * (1 - x)\n",
    "\n",
    "inputs, hiddens, outputs = 2, 2, 1 # 입력층, 은닉층, 출력층 개수\n",
    "learning_reate = 0.2\n",
    "\n",
    "X = np.array([[0, 0], [0, 1], [1, 0], [1, 1]])\n",
    "T = np.array([[0], [1], [1], [0]])\n",
    "\n",
    "W1 = np.array()"
   ]
  }
 ],
 "metadata": {
  "kernelspec": {
   "display_name": "deep",
   "language": "python",
   "name": "python3"
  },
  "language_info": {
   "codemirror_mode": {
    "name": "ipython",
    "version": 3
   },
   "file_extension": ".py",
   "mimetype": "text/x-python",
   "name": "python",
   "nbconvert_exporter": "python",
   "pygments_lexer": "ipython3",
   "version": "3.13.2"
  }
 },
 "nbformat": 4,
 "nbformat_minor": 2
}
