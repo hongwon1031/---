{
 "cells": [
  {
   "cell_type": "code",
   "execution_count": null,
   "metadata": {},
   "outputs": [],
   "source": [
    "# 1. test.csv 불러오기\n",
    "test_df = pd.read_csv(r'C:\\Users\\User\\ML_prac\\Data\\titanic\\tested.csv')\n",
    "\n",
    "# 2. 전처리 (train 때랑 똑같이!)\n",
    "test_df['Sex'] = test_df['Sex'].astype('category').cat.codes\n",
    "test_df['Age'] = test_df['Age'].fillna(test_df.groupby('Sex')['Age'].transform('mean'))\n",
    "test_df['Fare'] = test_df['Fare'].fillna(test_df['Fare'].median())\n",
    "test_df['FamilySize'] = test_df['SibSp'] + test_df['Parch'] + 1\n",
    "test_df.drop(['SibSp', 'Parch', 'Cabin', 'Name', 'Ticket'], axis=1, inplace=True)\n",
    "test_df['Embarked'] = test_df['Embarked'].fillna('S')\n",
    "test_df['Embarked'] = test_df['Embarked'].astype('category').cat.codes\n",
    "\n",
    "X.columns = ['Age','Pclass','Sex','Fare','FamilySize','Embarked_0','Embarked_1','Embarked_2']\n",
    "\n",
    "# 3. 학습에 쓴 컬럼만 뽑기 (주의!)\n",
    "X_submission = test_df[X.columns]  # train에서 쓴 X.columns 그대로!\n",
    "\n",
    "# 4. 예측\n",
    "y_submission = model.predict(X_submission)\n",
    "\n",
    "# 5. 제출용 DataFrame 만들기\n",
    "submission = pd.DataFrame({\n",
    "    'PassengerId': test_df['PassengerId'],\n",
    "    'Survived': y_submission.astype(int)\n",
    "})\n",
    "\n",
    "# 6. CSV로 저장\n",
    "submission.to_csv('submission.csv', index=False)\n"
   ]
  },
  {
   "cell_type": "code",
   "execution_count": null,
   "metadata": {},
   "outputs": [],
   "source": []
  }
 ],
 "metadata": {
  "language_info": {
   "name": "python"
  }
 },
 "nbformat": 4,
 "nbformat_minor": 2
}
